{
 "cells": [
  {
   "cell_type": "markdown",
   "metadata": {},
   "source": [
    "## Capstone - Modeling"
   ]
  },
  {
   "cell_type": "code",
   "execution_count": 48,
   "metadata": {},
   "outputs": [],
   "source": [
    "# Importing packages\n",
    "\n",
    "import pandas as pd\n",
    "import numpy as np\n",
    "\n",
    "import pydicom\n",
    "from skimage.transform import resize\n",
    "\n",
    "from keras.utils import to_categorical\n",
    "from sklearn.model_selection import train_test_split\n",
    "\n",
    "from keras.models import Sequential\n",
    "from keras.layers import Conv2D\n",
    "\n",
    "from keras.layers import MaxPooling2D\n",
    "from keras.layers import Flatten\n",
    "\n",
    "from keras.layers import Dense\n",
    "from keras.layers import Dropout\n",
    "\n",
    "import matplotlib.pyplot as plt\n",
    "from sklearn import metrics\n",
    "%matplotlib inline"
   ]
  },
  {
   "cell_type": "code",
   "execution_count": 2,
   "metadata": {},
   "outputs": [],
   "source": [
    "resized_shape = (64, 64)"
   ]
  },
  {
   "cell_type": "code",
   "execution_count": 3,
   "metadata": {},
   "outputs": [],
   "source": [
    "dataset = pd.read_csv('full_patient_dataset')"
   ]
  },
  {
   "cell_type": "code",
   "execution_count": 4,
   "metadata": {},
   "outputs": [
    {
     "data": {
      "text/html": [
       "<div>\n",
       "<style scoped>\n",
       "    .dataframe tbody tr th:only-of-type {\n",
       "        vertical-align: middle;\n",
       "    }\n",
       "\n",
       "    .dataframe tbody tr th {\n",
       "        vertical-align: top;\n",
       "    }\n",
       "\n",
       "    .dataframe thead th {\n",
       "        text-align: right;\n",
       "    }\n",
       "</style>\n",
       "<table border=\"1\" class=\"dataframe\">\n",
       "  <thead>\n",
       "    <tr style=\"text-align: right;\">\n",
       "      <th></th>\n",
       "      <th>patientId</th>\n",
       "      <th>patient_age</th>\n",
       "      <th>patient_sex</th>\n",
       "      <th>patient_view_position</th>\n",
       "      <th>pixel_rows</th>\n",
       "      <th>pixel_colums</th>\n",
       "      <th>x</th>\n",
       "      <th>y</th>\n",
       "      <th>width</th>\n",
       "      <th>height</th>\n",
       "      <th>Target</th>\n",
       "      <th>class</th>\n",
       "    </tr>\n",
       "  </thead>\n",
       "  <tbody>\n",
       "    <tr>\n",
       "      <th>0</th>\n",
       "      <td>0004cfab-14fd-4e49-80ba-63a80b6bddd6</td>\n",
       "      <td>51</td>\n",
       "      <td>F</td>\n",
       "      <td>PA</td>\n",
       "      <td>1024</td>\n",
       "      <td>1024</td>\n",
       "      <td>NaN</td>\n",
       "      <td>NaN</td>\n",
       "      <td>NaN</td>\n",
       "      <td>NaN</td>\n",
       "      <td>0</td>\n",
       "      <td>No Lung Opacity / Not Normal</td>\n",
       "    </tr>\n",
       "    <tr>\n",
       "      <th>1</th>\n",
       "      <td>00313ee0-9eaa-42f4-b0ab-c148ed3241cd</td>\n",
       "      <td>48</td>\n",
       "      <td>F</td>\n",
       "      <td>PA</td>\n",
       "      <td>1024</td>\n",
       "      <td>1024</td>\n",
       "      <td>NaN</td>\n",
       "      <td>NaN</td>\n",
       "      <td>NaN</td>\n",
       "      <td>NaN</td>\n",
       "      <td>0</td>\n",
       "      <td>No Lung Opacity / Not Normal</td>\n",
       "    </tr>\n",
       "    <tr>\n",
       "      <th>2</th>\n",
       "      <td>00322d4d-1c29-4943-afc9-b6754be640eb</td>\n",
       "      <td>19</td>\n",
       "      <td>M</td>\n",
       "      <td>AP</td>\n",
       "      <td>1024</td>\n",
       "      <td>1024</td>\n",
       "      <td>NaN</td>\n",
       "      <td>NaN</td>\n",
       "      <td>NaN</td>\n",
       "      <td>NaN</td>\n",
       "      <td>0</td>\n",
       "      <td>No Lung Opacity / Not Normal</td>\n",
       "    </tr>\n",
       "    <tr>\n",
       "      <th>3</th>\n",
       "      <td>003d8fa0-6bf1-40ed-b54c-ac657f8495c5</td>\n",
       "      <td>28</td>\n",
       "      <td>M</td>\n",
       "      <td>PA</td>\n",
       "      <td>1024</td>\n",
       "      <td>1024</td>\n",
       "      <td>NaN</td>\n",
       "      <td>NaN</td>\n",
       "      <td>NaN</td>\n",
       "      <td>NaN</td>\n",
       "      <td>0</td>\n",
       "      <td>Normal</td>\n",
       "    </tr>\n",
       "    <tr>\n",
       "      <th>4</th>\n",
       "      <td>00436515-870c-4b36-a041-de91049b9ab4</td>\n",
       "      <td>32</td>\n",
       "      <td>F</td>\n",
       "      <td>AP</td>\n",
       "      <td>1024</td>\n",
       "      <td>1024</td>\n",
       "      <td>264.0</td>\n",
       "      <td>152.0</td>\n",
       "      <td>213.0</td>\n",
       "      <td>379.0</td>\n",
       "      <td>1</td>\n",
       "      <td>Lung Opacity</td>\n",
       "    </tr>\n",
       "  </tbody>\n",
       "</table>\n",
       "</div>"
      ],
      "text/plain": [
       "                              patientId  patient_age patient_sex  \\\n",
       "0  0004cfab-14fd-4e49-80ba-63a80b6bddd6           51           F   \n",
       "1  00313ee0-9eaa-42f4-b0ab-c148ed3241cd           48           F   \n",
       "2  00322d4d-1c29-4943-afc9-b6754be640eb           19           M   \n",
       "3  003d8fa0-6bf1-40ed-b54c-ac657f8495c5           28           M   \n",
       "4  00436515-870c-4b36-a041-de91049b9ab4           32           F   \n",
       "\n",
       "  patient_view_position  pixel_rows  pixel_colums      x      y  width  \\\n",
       "0                    PA        1024          1024    NaN    NaN    NaN   \n",
       "1                    PA        1024          1024    NaN    NaN    NaN   \n",
       "2                    AP        1024          1024    NaN    NaN    NaN   \n",
       "3                    PA        1024          1024    NaN    NaN    NaN   \n",
       "4                    AP        1024          1024  264.0  152.0  213.0   \n",
       "\n",
       "   height  Target                         class  \n",
       "0     NaN       0  No Lung Opacity / Not Normal  \n",
       "1     NaN       0  No Lung Opacity / Not Normal  \n",
       "2     NaN       0  No Lung Opacity / Not Normal  \n",
       "3     NaN       0                        Normal  \n",
       "4   379.0       1                  Lung Opacity  "
      ]
     },
     "execution_count": 4,
     "metadata": {},
     "output_type": "execute_result"
    }
   ],
   "source": [
    "dataset.head(5)"
   ]
  },
  {
   "cell_type": "code",
   "execution_count": 5,
   "metadata": {},
   "outputs": [
    {
     "data": {
      "text/plain": [
       "(30227, 12)"
      ]
     },
     "execution_count": 5,
     "metadata": {},
     "output_type": "execute_result"
    }
   ],
   "source": [
    "dataset.shape"
   ]
  },
  {
   "cell_type": "code",
   "execution_count": 6,
   "metadata": {},
   "outputs": [],
   "source": [
    "patientId = dataset['patientId'][0]"
   ]
  },
  {
   "cell_type": "code",
   "execution_count": 7,
   "metadata": {},
   "outputs": [],
   "source": [
    "dcm_file = './stage_2_train_images/%s.dcm' % patientId\n",
    "dcm_data = pydicom.read_file(dcm_file)"
   ]
  },
  {
   "cell_type": "code",
   "execution_count": 8,
   "metadata": {},
   "outputs": [
    {
     "data": {
      "text/plain": [
       "['pixel0',\n",
       " 'pixel1',\n",
       " 'pixel2',\n",
       " 'pixel3',\n",
       " 'pixel4',\n",
       " 'pixel5',\n",
       " 'pixel6',\n",
       " 'pixel7',\n",
       " 'pixel8',\n",
       " 'pixel9']"
      ]
     },
     "execution_count": 8,
     "metadata": {},
     "output_type": "execute_result"
    }
   ],
   "source": [
    "# Creating pixel columns \n",
    "pixel_labels = []\n",
    "for i in range(resized_shape[0] * resized_shape[1]):\n",
    "    pixel_labels.append(\"pixel\"+str(i))\n",
    "pixel_labels[:10]"
   ]
  },
  {
   "cell_type": "code",
   "execution_count": 9,
   "metadata": {},
   "outputs": [
    {
     "name": "stdout",
     "output_type": "stream",
     "text": [
      "CPU times: user 1h 27min 32s, sys: 7min 47s, total: 1h 35min 20s\n",
      "Wall time: 2h 40min 51s\n"
     ]
    }
   ],
   "source": [
    "%%time\n",
    "\n",
    "total_images = dataset.shape[0]\n",
    "\n",
    "#Creating 1 D Array for all the images\n",
    "\n",
    "pixel_data = []\n",
    "\n",
    "num = 0\n",
    "\n",
    "for i in range(dataset.shape[0]):\n",
    "    patientId = dataset.iloc[i]['patientId']\n",
    "    dcm_file = './stage_2_train_images/%s.dcm' % patientId\n",
    "    dcm_data = pydicom.read_file(dcm_file)\n",
    "    im = dcm_data.pixel_array\n",
    "    \n",
    "    \n",
    "    #convert the image into a 1 d array of pixels\n",
    "    \n",
    "    final_pixel_array = []\n",
    "    for j in resize(im, resized_shape): \n",
    "        final_pixel_array.extend(j)\n",
    "    pixel_data.append(final_pixel_array)\n",
    "    \n",
    "    \n",
    "    # Stopping when it hits total number of images\n",
    "    \n",
    "    num = num + 1\n",
    "    if num == total_images:\n",
    "        break"
   ]
  },
  {
   "cell_type": "markdown",
   "metadata": {},
   "source": [
    "## Binary Classification Model"
   ]
  },
  {
   "cell_type": "code",
   "execution_count": 10,
   "metadata": {},
   "outputs": [],
   "source": [
    "X = pd.DataFrame(data = pixel_data, columns = pixel_labels)"
   ]
  },
  {
   "cell_type": "code",
   "execution_count": 11,
   "metadata": {},
   "outputs": [],
   "source": [
    "y = dataset['Target']"
   ]
  },
  {
   "cell_type": "code",
   "execution_count": 12,
   "metadata": {},
   "outputs": [
    {
     "data": {
      "text/plain": [
       "((30227, 4096), (30227,))"
      ]
     },
     "execution_count": 12,
     "metadata": {},
     "output_type": "execute_result"
    }
   ],
   "source": [
    "X.shape , y.shape"
   ]
  },
  {
   "cell_type": "code",
   "execution_count": 13,
   "metadata": {},
   "outputs": [],
   "source": [
    "X_train, X_test, y_train, y_test = train_test_split(X, y,\n",
    "                                                    stratify=y,\n",
    "                                                    random_state=42)"
   ]
  },
  {
   "cell_type": "code",
   "execution_count": 14,
   "metadata": {},
   "outputs": [],
   "source": [
    "y_train_c = to_categorical(y_train)\n",
    "y_test_c = to_categorical(y_test)"
   ]
  },
  {
   "cell_type": "code",
   "execution_count": 15,
   "metadata": {},
   "outputs": [],
   "source": [
    "X_train_re = X_train.values.reshape(X_train.shape[0], resized_shape[0], resized_shape[1], 1)\n",
    "X_test_re = X_test.values.reshape(X_test.shape[0], resized_shape[0], resized_shape[1], 1)"
   ]
  },
  {
   "cell_type": "code",
   "execution_count": 16,
   "metadata": {},
   "outputs": [
    {
     "name": "stdout",
     "output_type": "stream",
     "text": [
      "WARNING:tensorflow:From /Users/bhupeshkumar/anaconda3/lib/python3.7/site-packages/tensorflow/python/framework/op_def_library.py:263: colocate_with (from tensorflow.python.framework.ops) is deprecated and will be removed in a future version.\n",
      "Instructions for updating:\n",
      "Colocations handled automatically by placer.\n",
      "WARNING:tensorflow:From /Users/bhupeshkumar/anaconda3/lib/python3.7/site-packages/keras/backend/tensorflow_backend.py:3445: calling dropout (from tensorflow.python.ops.nn_ops) with keep_prob is deprecated and will be removed in a future version.\n",
      "Instructions for updating:\n",
      "Please use `rate` instead of `keep_prob`. Rate should be set to `rate = 1 - keep_prob`.\n",
      "CPU times: user 164 ms, sys: 115 ms, total: 280 ms\n",
      "Wall time: 560 ms\n"
     ]
    }
   ],
   "source": [
    "%%time\n",
    "\n",
    "# Initialize Model\n",
    "model = Sequential()\n",
    "\n",
    "# First Convolution  Layer \n",
    "model.add(Conv2D(filters = 6,\n",
    "                 kernel_size = 3,\n",
    "                 activation = 'relu',\n",
    "                 input_shape = (resized_shape[0], resized_shape[1], 1)\n",
    "                ))\n",
    "\n",
    "# Adding pooling\n",
    "model.add(MaxPooling2D(pool_size=(2,2)))\n",
    "\n",
    "# Second convolutional layer\n",
    "model.add(Conv2D(filters=16,\n",
    "                 kernel_size=3,\n",
    "                 activation='relu'))\n",
    "\n",
    "# Adding Pooling\n",
    "model.add(MaxPooling2D(pool_size=(2,2)))\n",
    "\n",
    "# Dropout\n",
    "model.add(Dropout(0.5))\n",
    "\n",
    "# Flatten\n",
    "model.add(Flatten())\n",
    "\n",
    "#Third Convoltion Layer\n",
    "model.add(Dense(512,\n",
    "                activation='relu'))\n",
    "\n",
    "# Fourth Convoltion layer\n",
    "model.add(Dense(128,\n",
    "                activation='relu'))\n",
    "# Dropout\n",
    "model.add(Dropout(0.5))\n",
    "\n",
    "#Output Layer\n",
    "model.add(Dense(2, activation='softmax'))"
   ]
  },
  {
   "cell_type": "code",
   "execution_count": 17,
   "metadata": {},
   "outputs": [
    {
     "name": "stdout",
     "output_type": "stream",
     "text": [
      "_________________________________________________________________\n",
      "Layer (type)                 Output Shape              Param #   \n",
      "=================================================================\n",
      "conv2d_1 (Conv2D)            (None, 62, 62, 6)         60        \n",
      "_________________________________________________________________\n",
      "max_pooling2d_1 (MaxPooling2 (None, 31, 31, 6)         0         \n",
      "_________________________________________________________________\n",
      "conv2d_2 (Conv2D)            (None, 29, 29, 16)        880       \n",
      "_________________________________________________________________\n",
      "max_pooling2d_2 (MaxPooling2 (None, 14, 14, 16)        0         \n",
      "_________________________________________________________________\n",
      "dropout_1 (Dropout)          (None, 14, 14, 16)        0         \n",
      "_________________________________________________________________\n",
      "flatten_1 (Flatten)          (None, 3136)              0         \n",
      "_________________________________________________________________\n",
      "dense_1 (Dense)              (None, 512)               1606144   \n",
      "_________________________________________________________________\n",
      "dense_2 (Dense)              (None, 128)               65664     \n",
      "_________________________________________________________________\n",
      "dropout_2 (Dropout)          (None, 128)               0         \n",
      "_________________________________________________________________\n",
      "dense_3 (Dense)              (None, 2)                 258       \n",
      "=================================================================\n",
      "Total params: 1,673,006\n",
      "Trainable params: 1,673,006\n",
      "Non-trainable params: 0\n",
      "_________________________________________________________________\n"
     ]
    }
   ],
   "source": [
    "model.summary()"
   ]
  },
  {
   "cell_type": "code",
   "execution_count": 18,
   "metadata": {},
   "outputs": [],
   "source": [
    "model.compile(loss = 'categorical_crossentropy', \n",
    "              optimizer = 'adam', \n",
    "              metrics = ['accuracy'])"
   ]
  },
  {
   "cell_type": "code",
   "execution_count": 19,
   "metadata": {},
   "outputs": [
    {
     "name": "stdout",
     "output_type": "stream",
     "text": [
      "WARNING:tensorflow:From /Users/bhupeshkumar/anaconda3/lib/python3.7/site-packages/tensorflow/python/ops/math_ops.py:3066: to_int32 (from tensorflow.python.ops.math_ops) is deprecated and will be removed in a future version.\n",
      "Instructions for updating:\n",
      "Use tf.cast instead.\n",
      "Train on 22670 samples, validate on 7557 samples\n",
      "Epoch 1/20\n",
      "22670/22670 [==============================] - 56s 2ms/step - loss: 0.5110 - acc: 0.7519 - val_loss: 0.4748 - val_acc: 0.7866\n",
      "Epoch 2/20\n",
      "22670/22670 [==============================] - 53s 2ms/step - loss: 0.4793 - acc: 0.7750 - val_loss: 0.4505 - val_acc: 0.7913\n",
      "Epoch 3/20\n",
      "22670/22670 [==============================] - 49s 2ms/step - loss: 0.4665 - acc: 0.7805 - val_loss: 0.4441 - val_acc: 0.7960\n",
      "Epoch 4/20\n",
      "22670/22670 [==============================] - 49s 2ms/step - loss: 0.4579 - acc: 0.7852 - val_loss: 0.4438 - val_acc: 0.7928\n",
      "Epoch 5/20\n",
      "22670/22670 [==============================] - 50s 2ms/step - loss: 0.4489 - acc: 0.7900 - val_loss: 0.4341 - val_acc: 0.7999- loss: \n",
      "Epoch 6/20\n",
      "22670/22670 [==============================] - 50s 2ms/step - loss: 0.4409 - acc: 0.7946 - val_loss: 0.4335 - val_acc: 0.7993\n",
      "Epoch 7/20\n",
      "22670/22670 [==============================] - 49s 2ms/step - loss: 0.4307 - acc: 0.8009 - val_loss: 0.4425 - val_acc: 0.7942\n",
      "Epoch 8/20\n",
      "22670/22670 [==============================] - 49s 2ms/step - loss: 0.4232 - acc: 0.8041 - val_loss: 0.4292 - val_acc: 0.8016\n",
      "Epoch 9/20\n",
      "22670/22670 [==============================] - 49s 2ms/step - loss: 0.4106 - acc: 0.8142 - val_loss: 0.4296 - val_acc: 0.8042\n",
      "Epoch 10/20\n",
      "22670/22670 [==============================] - 49s 2ms/step - loss: 0.3967 - acc: 0.8190 - val_loss: 0.4285 - val_acc: 0.8020\n",
      "Epoch 11/20\n",
      "22670/22670 [==============================] - 742s 33ms/step - loss: 0.3825 - acc: 0.8266 - val_loss: 0.4245 - val_acc: 0.8125\n",
      "Epoch 12/20\n",
      "22670/22670 [==============================] - 54s 2ms/step - loss: 0.3674 - acc: 0.8363 - val_loss: 0.4273 - val_acc: 0.8126\n",
      "Epoch 13/20\n",
      "22670/22670 [==============================] - 50s 2ms/step - loss: 0.3546 - acc: 0.8416 - val_loss: 0.4364 - val_acc: 0.8096\n",
      "Epoch 14/20\n",
      "22670/22670 [==============================] - 51s 2ms/step - loss: 0.3390 - acc: 0.8517 - val_loss: 0.4511 - val_acc: 0.8031\n",
      "Epoch 15/20\n",
      "22670/22670 [==============================] - 58s 3ms/step - loss: 0.3221 - acc: 0.8565 - val_loss: 0.4401 - val_acc: 0.8105\n",
      "Epoch 16/20\n",
      "22670/22670 [==============================] - 52s 2ms/step - loss: 0.3030 - acc: 0.8713 - val_loss: 0.4587 - val_acc: 0.8116\n",
      "Epoch 17/20\n",
      "22670/22670 [==============================] - 55s 2ms/step - loss: 0.2913 - acc: 0.8741 - val_loss: 0.4700 - val_acc: 0.8150\n",
      "Epoch 18/20\n",
      "22670/22670 [==============================] - 54s 2ms/step - loss: 0.2736 - acc: 0.8835 - val_loss: 0.4632 - val_acc: 0.8166\n",
      "Epoch 19/20\n",
      "22670/22670 [==============================] - 54s 2ms/step - loss: 0.2589 - acc: 0.8902 - val_loss: 0.4607 - val_acc: 0.8188\n",
      "Epoch 20/20\n",
      "22670/22670 [==============================] - 52s 2ms/step - loss: 0.2417 - acc: 0.8994 - val_loss: 0.4946 - val_acc: 0.8177\n",
      "CPU times: user 37min 13s, sys: 10min 39s, total: 47min 52s\n",
      "Wall time: 29min 4s\n"
     ]
    }
   ],
   "source": [
    "%%time\n",
    "trained_model = model.fit(X_train_re,\n",
    "                          y_train_c,\n",
    "                          batch_size = 32,\n",
    "                          validation_data = (X_test_re, y_test_c),\n",
    "                          epochs = 20,\n",
    "                          verbose = 1\n",
    "                         )"
   ]
  },
  {
   "cell_type": "code",
   "execution_count": 41,
   "metadata": {},
   "outputs": [
    {
     "data": {
      "text/plain": [
       "<matplotlib.legend.Legend at 0x1d64ffa150>"
      ]
     },
     "execution_count": 41,
     "metadata": {},
     "output_type": "execute_result"
    },
    {
     "data": {
      "image/png": "[encoded data removed]",
      "text/plain": [
       "<Figure size 864x576 with 1 Axes>"
      ]
     },
     "metadata": {
      "needs_background": "light"
     },
     "output_type": "display_data"
    }
   ],
   "source": [
    "# Ploting Accuracy\n",
    "\n",
    "plt.figure(figsize=(12, 8))\n",
    "\n",
    "acc = trained_model.history['acc']\n",
    "val_acc = trained_model.history['val_acc']\n",
    "\n",
    "epochs = range(1,len(acc) +1 )\n",
    "\n",
    "plt.plot(epochs, acc , 'bo', label ='Training acc')\n",
    "plt.plot(epochs, val_acc, 'b', label = 'Testing acc')\n",
    "\n",
    "\n",
    "# Set title\n",
    "plt.title('Training and Testing Accuracy by Epoch', fontsize = 25)\n",
    "plt.xlabel('Epoch', fontsize = 18)\n",
    "plt.ylabel('Categorical Crossentropy', fontsize = 18)\n",
    "plt.legend(fontsize = 16)"
   ]
  },
  {
   "cell_type": "code",
   "execution_count": 42,
   "metadata": {},
   "outputs": [
    {
     "data": {
      "text/plain": [
       "<matplotlib.legend.Legend at 0x1d62e955d0>"
      ]
     },
     "execution_count": 42,
     "metadata": {},
     "output_type": "execute_result"
    },
    {
     "data": {
      "image/png": "[encoded data removed]",
      "text/plain": [
       "<Figure size 864x576 with 1 Axes>"
      ]
     },
     "metadata": {
      "needs_background": "light"
     },
     "output_type": "display_data"
    }
   ],
   "source": [
    "# Plotting Loss\n",
    "plt.figure(figsize=(12, 8))\n",
    "\n",
    "loss = trained_model.history['loss']\n",
    "val_loss = trained_model.history['val_loss']\n",
    "epochs = range(1,len(acc) +1 )\n",
    "\n",
    "plt.plot(epochs, loss , 'bo', label ='Training loss')\n",
    "plt.plot(epochs, val_loss, 'b', label = 'Testing loss')\n",
    "\n",
    "# Set title\n",
    "plt.title('Training and Testing Accuracy by Epoch', fontsize = 25)\n",
    "plt.xlabel('Epoch', fontsize = 18)\n",
    "plt.ylabel('Categorical Crossentropy', fontsize = 18)\n",
    "plt.legend(fontsize = 16)"
   ]
  },
  {
   "cell_type": "code",
   "execution_count": null,
   "metadata": {},
   "outputs": [],
   "source": [
    "prediction = model_multiclass.predict_classes(X_test_re)\n",
    "print('Accuracy score :', metrics.accuracy_score(y_test,prediction))"
   ]
  },
  {
   "cell_type": "markdown",
   "metadata": {},
   "source": [
    "## Multiclass Model"
   ]
  },
  {
   "cell_type": "code",
   "execution_count": 22,
   "metadata": {},
   "outputs": [
    {
     "data": {
      "text/plain": [
       "(30227, 4096)"
      ]
     },
     "execution_count": 22,
     "metadata": {},
     "output_type": "execute_result"
    }
   ],
   "source": [
    "X.shape"
   ]
  },
  {
   "cell_type": "code",
   "execution_count": 23,
   "metadata": {},
   "outputs": [
    {
     "data": {
      "text/plain": [
       "0    No Lung Opacity / Not Normal\n",
       "1    No Lung Opacity / Not Normal\n",
       "2    No Lung Opacity / Not Normal\n",
       "3                          Normal\n",
       "4                    Lung Opacity\n",
       "Name: class, dtype: object"
      ]
     },
     "execution_count": 23,
     "metadata": {},
     "output_type": "execute_result"
    }
   ],
   "source": [
    "dataset['class'].head()"
   ]
  },
  {
   "cell_type": "code",
   "execution_count": 24,
   "metadata": {},
   "outputs": [],
   "source": [
    "label = {'Normal': 0,\n",
    "         'Lung Opacity': 1,\n",
    "         'No Lung Opacity / Not Normal':2}"
   ]
  },
  {
   "cell_type": "code",
   "execution_count": 25,
   "metadata": {},
   "outputs": [],
   "source": [
    "dataset['class'] = dataset['class'].map(label)"
   ]
  },
  {
   "cell_type": "code",
   "execution_count": 26,
   "metadata": {},
   "outputs": [
    {
     "data": {
      "text/plain": [
       "0    2\n",
       "1    2\n",
       "2    2\n",
       "3    0\n",
       "4    1\n",
       "Name: class, dtype: int64"
      ]
     },
     "execution_count": 26,
     "metadata": {},
     "output_type": "execute_result"
    }
   ],
   "source": [
    "dataset['class'].head()"
   ]
  },
  {
   "cell_type": "code",
   "execution_count": 27,
   "metadata": {},
   "outputs": [
    {
     "data": {
      "text/plain": [
       "2    11821\n",
       "1     9555\n",
       "0     8851\n",
       "Name: class, dtype: int64"
      ]
     },
     "execution_count": 27,
     "metadata": {},
     "output_type": "execute_result"
    }
   ],
   "source": [
    "dataset['class'].value_counts()"
   ]
  },
  {
   "cell_type": "code",
   "execution_count": 28,
   "metadata": {},
   "outputs": [],
   "source": [
    "X2 = pd.DataFrame(data = pixel_data, columns = pixel_labels)\n",
    "y2 = dataset['class']"
   ]
  },
  {
   "cell_type": "code",
   "execution_count": 29,
   "metadata": {},
   "outputs": [
    {
     "data": {
      "text/plain": [
       "(30227,)"
      ]
     },
     "execution_count": 29,
     "metadata": {},
     "output_type": "execute_result"
    }
   ],
   "source": [
    "y2.shape"
   ]
  },
  {
   "cell_type": "code",
   "execution_count": 30,
   "metadata": {},
   "outputs": [
    {
     "data": {
      "text/plain": [
       "(30227, 4096)"
      ]
     },
     "execution_count": 30,
     "metadata": {},
     "output_type": "execute_result"
    }
   ],
   "source": [
    "X2.shape"
   ]
  },
  {
   "cell_type": "code",
   "execution_count": 31,
   "metadata": {},
   "outputs": [],
   "source": [
    "X_train, X_test, y_train, y_test = train_test_split(X2, y2,\n",
    "                                                    stratify=y,\n",
    "                                                    random_state=42)"
   ]
  },
  {
   "cell_type": "code",
   "execution_count": 32,
   "metadata": {},
   "outputs": [],
   "source": [
    "y_train_c = to_categorical(y_train)\n",
    "y_test_c = to_categorical(y_test)"
   ]
  },
  {
   "cell_type": "code",
   "execution_count": 33,
   "metadata": {},
   "outputs": [],
   "source": [
    "X_train_re = X_train.values.reshape(X_train.shape[0], resized_shape[0], resized_shape[1], 1)\n",
    "X_test_re = X_test.values.reshape(X_test.shape[0], resized_shape[0], resized_shape[1], 1)"
   ]
  },
  {
   "cell_type": "code",
   "execution_count": 34,
   "metadata": {},
   "outputs": [
    {
     "name": "stdout",
     "output_type": "stream",
     "text": [
      "CPU times: user 110 ms, sys: 52.8 ms, total: 163 ms\n",
      "Wall time: 220 ms\n"
     ]
    }
   ],
   "source": [
    "%%time\n",
    "\n",
    "# Initialize Model\n",
    "model_multiclass = Sequential()\n",
    "\n",
    "# First Convolutional Layer \n",
    "model_multiclass.add(Conv2D(filters = 6,\n",
    "                            kernel_size = 3,\n",
    "                            activation = 'relu',\n",
    "                            input_shape = (resized_shape[0], resized_shape[1], 1)\n",
    "                           ))\n",
    "# pooling\n",
    "model_multiclass.add(MaxPooling2D(pool_size=(2,2)))\n",
    "\n",
    "#Second Convolutional layer\n",
    "model_multiclass.add(Conv2D(filters=16,\n",
    "                            kernel_size=3,\n",
    "                            activation='relu'))\n",
    "\n",
    "# pooling\n",
    "model_multiclass.add(MaxPooling2D(pool_size=(2,2)))\n",
    "\n",
    "# Flatten\n",
    "model_multiclass.add(Flatten())\n",
    "\n",
    "# Dropout\n",
    "model_multiclass.add(Dropout(0.5))\n",
    "\n",
    "# Third Layer\n",
    "model_multiclass.add(Dense(512,\n",
    "                           activation='relu'))\n",
    "\n",
    "#\n",
    "model_multiclass.add(Dense(128,\n",
    "                           activation='relu'))\n",
    "\n",
    "#Dropout\n",
    "model_multiclass.add(Dropout(0.5))\n",
    "\n",
    "# Final 3 output\n",
    "model_multiclass.add(Dense(3, activation='softmax'))"
   ]
  },
  {
   "cell_type": "code",
   "execution_count": 35,
   "metadata": {},
   "outputs": [
    {
     "name": "stdout",
     "output_type": "stream",
     "text": [
      "_________________________________________________________________\n",
      "Layer (type)                 Output Shape              Param #   \n",
      "=================================================================\n",
      "conv2d_3 (Conv2D)            (None, 62, 62, 6)         60        \n",
      "_________________________________________________________________\n",
      "max_pooling2d_3 (MaxPooling2 (None, 31, 31, 6)         0         \n",
      "_________________________________________________________________\n",
      "conv2d_4 (Conv2D)            (None, 29, 29, 16)        880       \n",
      "_________________________________________________________________\n",
      "max_pooling2d_4 (MaxPooling2 (None, 14, 14, 16)        0         \n",
      "_________________________________________________________________\n",
      "flatten_2 (Flatten)          (None, 3136)              0         \n",
      "_________________________________________________________________\n",
      "dropout_3 (Dropout)          (None, 3136)              0         \n",
      "_________________________________________________________________\n",
      "dense_4 (Dense)              (None, 512)               1606144   \n",
      "_________________________________________________________________\n",
      "dense_5 (Dense)              (None, 128)               65664     \n",
      "_________________________________________________________________\n",
      "dropout_4 (Dropout)          (None, 128)               0         \n",
      "_________________________________________________________________\n",
      "dense_6 (Dense)              (None, 3)                 387       \n",
      "=================================================================\n",
      "Total params: 1,673,135\n",
      "Trainable params: 1,673,135\n",
      "Non-trainable params: 0\n",
      "_________________________________________________________________\n"
     ]
    }
   ],
   "source": [
    "model_multiclass.summary()"
   ]
  },
  {
   "cell_type": "code",
   "execution_count": 36,
   "metadata": {},
   "outputs": [],
   "source": [
    "model_multiclass.compile(loss = 'categorical_crossentropy', \n",
    "                         optimizer = 'adam', \n",
    "                         metrics = ['accuracy'])"
   ]
  },
  {
   "cell_type": "code",
   "execution_count": 38,
   "metadata": {
    "scrolled": false
   },
   "outputs": [
    {
     "name": "stdout",
     "output_type": "stream",
     "text": [
      "Train on 22670 samples, validate on 7557 samples\n",
      "Epoch 1/20\n",
      "22670/22670 [==============================] - 55s 2ms/step - loss: 0.9064 - acc: 0.5463 - val_loss: 0.8221 - val_acc: 0.6016\n",
      "Epoch 2/20\n",
      "22670/22670 [==============================] - 49s 2ms/step - loss: 0.8367 - acc: 0.6045 - val_loss: 0.7789 - val_acc: 0.6329\n",
      "Epoch 3/20\n",
      "22670/22670 [==============================] - 49s 2ms/step - loss: 0.7993 - acc: 0.6249 - val_loss: 0.7619 - val_acc: 0.6443\n",
      "Epoch 4/20\n",
      "22670/22670 [==============================] - 51s 2ms/step - loss: 0.7761 - acc: 0.6354 - val_loss: 0.7377 - val_acc: 0.6553\n",
      "Epoch 5/20\n",
      "22670/22670 [==============================] - 54s 2ms/step - loss: 0.7551 - acc: 0.6499 - val_loss: 0.7430 - val_acc: 0.6544\n",
      "Epoch 6/20\n",
      "22670/22670 [==============================] - 55s 2ms/step - loss: 0.7440 - acc: 0.6566 - val_loss: 0.7259 - val_acc: 0.6643\n",
      "Epoch 7/20\n",
      "22670/22670 [==============================] - 52s 2ms/step - loss: 0.7226 - acc: 0.6651 - val_loss: 0.7355 - val_acc: 0.6552\n",
      "Epoch 8/20\n",
      "22670/22670 [==============================] - 49s 2ms/step - loss: 0.7078 - acc: 0.6744 - val_loss: 0.7256 - val_acc: 0.6624\n",
      "Epoch 9/20\n",
      "22670/22670 [==============================] - 49s 2ms/step - loss: 0.6867 - acc: 0.6861 - val_loss: 0.7193 - val_acc: 0.6710\n",
      "Epoch 10/20\n",
      "22670/22670 [==============================] - 50s 2ms/step - loss: 0.6709 - acc: 0.6953 - val_loss: 0.7276 - val_acc: 0.6634\n",
      "Epoch 11/20\n",
      "22670/22670 [==============================] - 51s 2ms/step - loss: 0.6468 - acc: 0.7071 - val_loss: 0.7359 - val_acc: 0.6548\n",
      "Epoch 12/20\n",
      "22670/22670 [==============================] - 49s 2ms/step - loss: 0.6267 - acc: 0.7184 - val_loss: 0.7137 - val_acc: 0.6779\n",
      "Epoch 13/20\n",
      "22670/22670 [==============================] - 49s 2ms/step - loss: 0.6073 - acc: 0.7269 - val_loss: 0.7196 - val_acc: 0.6827\n",
      "Epoch 14/20\n",
      "22670/22670 [==============================] - 51s 2ms/step - loss: 0.5808 - acc: 0.7434 - val_loss: 0.7480 - val_acc: 0.6720\n",
      "Epoch 15/20\n",
      "22670/22670 [==============================] - 51s 2ms/step - loss: 0.5573 - acc: 0.7590 - val_loss: 0.7325 - val_acc: 0.6815\n",
      "Epoch 16/20\n",
      "22670/22670 [==============================] - 51s 2ms/step - loss: 0.5363 - acc: 0.7658 - val_loss: 0.7711 - val_acc: 0.6795\n",
      "Epoch 17/20\n",
      "22670/22670 [==============================] - 51s 2ms/step - loss: 0.5117 - acc: 0.7803 - val_loss: 0.7749 - val_acc: 0.6880\n",
      "Epoch 18/20\n",
      "22670/22670 [==============================] - 51s 2ms/step - loss: 0.4886 - acc: 0.7919 - val_loss: 0.7564 - val_acc: 0.6851\n",
      "Epoch 19/20\n",
      "22670/22670 [==============================] - 59s 3ms/step - loss: 0.4709 - acc: 0.7962 - val_loss: 0.7963 - val_acc: 0.6876\n",
      "Epoch 20/20\n",
      "22670/22670 [==============================] - 56s 2ms/step - loss: 0.4461 - acc: 0.8072 - val_loss: 0.8016 - val_acc: 0.6816\n",
      "CPU times: user 37min 8s, sys: 10min 32s, total: 47min 41s\n",
      "Wall time: 17min 12s\n"
     ]
    }
   ],
   "source": [
    "%%time\n",
    "trained_model_multiclass = model_multiclass.fit(X_train_re,\n",
    "                                             y_train_c,\n",
    "                                     batch_size = 32,\n",
    "                                     validation_data = (X_test_re, y_test_c),\n",
    "                                     epochs = 20,\n",
    "                                     verbose = 1\n",
    "                                    )"
   ]
  },
  {
   "cell_type": "code",
   "execution_count": 45,
   "metadata": {},
   "outputs": [
    {
     "data": {
      "image/png": "[encoded data removed]",
      "text/plain": [
       "<Figure size 864x576 with 1 Axes>"
      ]
     },
     "metadata": {
      "needs_background": "light"
     },
     "output_type": "display_data"
    }
   ],
   "source": [
    "# Ploting Accuracy\n",
    "\n",
    "plt.figure(figsize=(12, 8))\n",
    "\n",
    "acc = trained_model_multiclass.history['acc']\n",
    "val_acc = trained_model_multiclass.history['val_acc']\n",
    "\n",
    "epochs = range(1,len(acc) +1 )\n",
    "\n",
    "plt.plot(epochs, acc , 'bo', label ='Training acc')\n",
    "plt.plot(epochs, val_acc, 'b', label = 'Testing acc')\n",
    "\n",
    "\n",
    "# Set title\n",
    "plt.title('Training and Testing Accuracy by Epoch', fontsize = 25)\n",
    "plt.xlabel('Epoch', fontsize = 18)\n",
    "plt.ylabel('Categorical Crossentropy', fontsize = 18)\n",
    "plt.legend(fontsize = 16);"
   ]
  },
  {
   "cell_type": "code",
   "execution_count": 44,
   "metadata": {},
   "outputs": [
    {
     "data": {
      "image/png": "[encoded data removed]",
      "text/plain": [
       "<Figure size 864x576 with 1 Axes>"
      ]
     },
     "metadata": {
      "needs_background": "light"
     },
     "output_type": "display_data"
    }
   ],
   "source": [
    "# Plotting Loss\n",
    "plt.figure(figsize=(12, 8))\n",
    "\n",
    "loss = trained_model_multiclass.history['loss']\n",
    "val_loss = trained_model_multiclass.history['val_loss']\n",
    "epochs = range(1,len(acc) +1 )\n",
    "\n",
    "plt.plot(epochs, loss , 'bo', label ='Training loss')\n",
    "plt.plot(epochs, val_loss, 'b', label = 'Testing loss')\n",
    "\n",
    "# Set title\n",
    "plt.title('Training and Testing Accuracy by Epoch', fontsize = 25)\n",
    "plt.xlabel('Epoch', fontsize = 18)\n",
    "plt.ylabel('Categorical Crossentropy', fontsize = 18)\n",
    "plt.legend(fontsize = 16);"
   ]
  },
  {
   "cell_type": "code",
   "execution_count": 60,
   "metadata": {},
   "outputs": [
    {
     "name": "stdout",
     "output_type": "stream",
     "text": [
      "Accuracy score : 0.6816196903533148\n"
     ]
    }
   ],
   "source": [
    "prediction = model_multiclass.predict_classes(X_test_re)\n",
    "print('Accuracy score :', metrics.accuracy_score(y_test,prediction))"
   ]
  }
 ],
 "metadata": {
  "kernelspec": {
   "display_name": "Python 3",
   "language": "python",
   "name": "python3"
  },
  "language_info": {
   "codemirror_mode": {
    "name": "ipython",
    "version": 3
   },
   "file_extension": ".py",
   "mimetype": "text/x-python",
   "name": "python",
   "nbconvert_exporter": "python",
   "pygments_lexer": "ipython3",
   "version": "3.7.4"
  }
 },
 "nbformat": 4,
 "nbformat_minor": 2
}
